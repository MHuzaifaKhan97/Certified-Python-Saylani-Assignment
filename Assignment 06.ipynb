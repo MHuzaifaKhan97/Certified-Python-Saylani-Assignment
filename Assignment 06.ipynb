{
 "cells": [
  {
   "cell_type": "markdown",
   "metadata": {},
   "source": [
    "## Q1 : Define Object Oriented Programming Language?"
   ]
  },
  {
   "cell_type": "markdown",
   "metadata": {},
   "source": [
    "### ANS : Object-oriented programming is a software programming model constructed around objects. This model compartmentalizes data into objects  and describes object contents and behavior through the declaration of classes.\n",
    "\n",
    "### There are four Pillars of Object Oriented Programming:\n",
    "### - Abstraction.\n",
    "### - Encapsulation.\n",
    "### - Inheritance.\n",
    "### - Polymorphism."
   ]
  },
  {
   "cell_type": "markdown",
   "metadata": {},
   "source": [
    "## Q2 : List down the Benefits of OOP?\n"
   ]
  },
  {
   "cell_type": "markdown",
   "metadata": {},
   "source": [
    "## ANS: These are some benifits of OOP:\n",
    "### 1) Modularity for easier troubleshooting.\n",
    "### 2) Reuse of code through inheritance.\n",
    "### 3) Flexibility through polymorphism.\n",
    "### 4) Effective problem solving.\n"
   ]
  },
  {
   "cell_type": "markdown",
   "metadata": {},
   "source": [
    "## Q3 : Differentiate between function and method?"
   ]
  },
  {
   "cell_type": "markdown",
   "metadata": {},
   "source": [
    "## ANS : \n",
    "\n",
    "## FUNCTION:\n",
    "### A function is a piece of code that is called by name. It can be passed data to operate on (i.e. the parameters) and can optionally return data (the return value). All data that is passed to a function is explicitly passed.\n",
    "\n",
    "## METHOD:\n",
    "### A method is a piece of code that is called by a name that is associated with an object. In most respects it is identical to a function except for two key differences:\n",
    "\n",
    "### - A method is implicitly passed the object on which it was called.\n",
    "### - A method is able to operate on data that is contained within the class (remembering that an object is an instance of a class - the class is the definition, the object is an instance of that data).\n",
    " "
   ]
  },
  {
   "cell_type": "markdown",
   "metadata": {},
   "source": [
    "## Q4 : Define the following terms:\n",
    "\n",
    "### 1. Class\n",
    "### 2. Object\n",
    "### 3. Attribute\n",
    "### 4. Behavior\n"
   ]
  },
  {
   "cell_type": "markdown",
   "metadata": {},
   "source": [
    "## ANS: \n",
    "## 1) CLASS:\n",
    "### A class is a blueprint for creating objects  providing initial values for state (member variables or attributes), and implementations of behavior.\n",
    "\n",
    "## 2) OBJECT:\n",
    "### An object is nothing but a self-contained component which consists of methods and properties to make a particular type of data useful. Object determines the behavior of the class. When you send a message to an object, you are asking the object to invoke or execute one of its methods.\n",
    "## 3) ATTRIBUTE:\n",
    "### An attribute is a specification that defines a property of an object, element, or file. It may also refer to or set the specific value for a given instance of such. For clarity, attributes should more correctly be considered metadata.\n",
    "\n",
    "## 4) BEHAVIOR:\n",
    "### A class's behavior determines how an instance of that class operates for example, how it will react if asked to do something by another class or object or if its internal state changes. Behavior is the only way objects can do anything to themselves or have anything done to them."
   ]
  },
  {
   "cell_type": "markdown",
   "metadata": {},
   "source": [
    "## Q5 : Write a code in python in which create a class named it Car which have 5 attributes such like (model, color and name etc.) and 3 methods. And create 5 object instance from that class."
   ]
  },
  {
   "cell_type": "code",
   "execution_count": 7,
   "metadata": {},
   "outputs": [
    {
     "name": "stdout",
     "output_type": "stream",
     "text": [
      "Car Name is  Honda  model is  Civic  color is  Black  year of Making is  2017  and  No  Bullet Proof\n",
      "Honda\n",
      "No\n",
      "Car Name is  Audi  model is  A8  color is  Silver  year of Making is  2019  and  Yes  Bullet Proof\n",
      "Audi\n",
      "Yes\n",
      "Car Name is  Honda  model is  Civic  color is  Red  year of Making is  2014  and  No  Bullet Proof\n",
      "Honda\n",
      "No\n",
      "Car Name is  Audi  model is  A4  color is  Black  year of Making is  2017  and  Yes  Bullet Proof\n",
      "Audi\n",
      "Yes\n",
      "Car Name is  Honda  model is  Civic  color is  Blue  year of Making is  2019  and  Yes  Bullet Proof\n",
      "Honda\n",
      "Yes\n"
     ]
    }
   ],
   "source": [
    "class Car:\n",
    "    def __init__(self, name, model,color,yearOfMaking,bulletProof):\n",
    "        self.name = name\n",
    "        self.model = model\n",
    "        self.color = color\n",
    "        self.yearOfMaking = yearOfMaking\n",
    "        self.bulletProof = bulletProof\n",
    "    \n",
    "    def getName(self):\n",
    "        print(self.name)\n",
    "    \n",
    "    def isBulletProof(self):\n",
    "        print(self.bulletProof)\n",
    "    \n",
    "    def getFullInfo(self):\n",
    "        print(\"Car Name is \",self.name,\" model is \",self.model,\" color is \",self.color,\" year of Making is \",self.yearOfMaking,\" and \",self.bulletProof,\" Bullet Proof\")\n",
    "        \n",
    "        \n",
    "car1 = Car(\"Honda\",\"Civic\",\"Black\",2017,\"No\")\n",
    "car1.getFullInfo()\n",
    "car1.getName()\n",
    "car1.isBulletProof()\n",
    "\n",
    "\n",
    "car2 = Car(\"Audi\",\"A8\",\"Silver\",2019,\"Yes\")\n",
    "car2.getFullInfo()\n",
    "car2.getName()\n",
    "car2.isBulletProof()\n",
    "\n",
    "\n",
    "car3 = Car(\"Honda\",\"Civic\",\"Red\",2014,\"No\")\n",
    "car3.getFullInfo()\n",
    "car3.getName()\n",
    "car3.isBulletProof()\n",
    "\n",
    "\n",
    "car4 = Car(\"Audi\",\"A4\",\"Black\",2017,\"Yes\")\n",
    "car4.getFullInfo()\n",
    "car4.getName()\n",
    "car4.isBulletProof()\n",
    "\n",
    "\n",
    "car5 = Car(\"Honda\",\"Civic\",\"Blue\",2019,\"Yes\")\n",
    "car5.getFullInfo()\n",
    "car5.getName()\n",
    "car5.isBulletProof()"
   ]
  },
  {
   "cell_type": "code",
   "execution_count": null,
   "metadata": {},
   "outputs": [],
   "source": []
  }
 ],
 "metadata": {
  "kernelspec": {
   "display_name": "Python 3",
   "language": "python",
   "name": "python3"
  },
  "language_info": {
   "codemirror_mode": {
    "name": "ipython",
    "version": 3
   },
   "file_extension": ".py",
   "mimetype": "text/x-python",
   "name": "python",
   "nbconvert_exporter": "python",
   "pygments_lexer": "ipython3",
   "version": "3.7.1"
  }
 },
 "nbformat": 4,
 "nbformat_minor": 2
}
