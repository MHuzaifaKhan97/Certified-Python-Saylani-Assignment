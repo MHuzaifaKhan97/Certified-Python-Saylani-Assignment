{
 "cells": [
  {
   "cell_type": "markdown",
   "metadata": {},
   "source": [
    "# Q 01"
   ]
  },
  {
   "cell_type": "code",
   "execution_count": 1,
   "metadata": {},
   "outputs": [
    {
     "name": "stdout",
     "output_type": "stream",
     "text": [
      "My name is Muhammad Huzaifa Nadir and i'm 22 year old, and i lived in karachi\n",
      "\n",
      "After updation\n",
      "My name is Muhammad Huzaifa Nadir and i'm 22 year old, and i lived in karachi and i'm doing BS - Software Engineering\n",
      "\n",
      "After Deletion\n",
      "My name is Muhammad Huzaifa Nadir and i'm 22 year old, and i lived in karachi\n"
     ]
    }
   ],
   "source": [
    "person = {\n",
    "    \"fName\" : \"Muhammad Huzaifa\",\n",
    "    \"lName\" : \"Nadir\",\n",
    "    \"age\"   : 22,\n",
    "    \"city\"  : \"karachi\" \n",
    "}\n",
    "print(\"My name is \"+person[\"fName\"]+\" \"+person[\"lName\"]+\" and i'm \"+str(person[\"age\"])+\" year old, and i lived in \"+person[\"city\"])\n",
    "\n",
    "person[\"qualification\"] = \"BS - Software Engineering\"\n",
    "print(\"\\nAfter updation\")\n",
    "print(\"My name is \"+person[\"fName\"]+\" \"+person[\"lName\"]+\" and i'm \"+str(person[\"age\"])+\" year old, and i lived in \"+person[\"city\"]+\" and i'm doing \"+person[\"qualification\"])\n",
    "\n",
    "del person[\"qualification\"]\n",
    "print(\"\\nAfter Deletion\")\n",
    "print(\"My name is \"+person[\"fName\"]+\" \"+person[\"lName\"]+\" and i'm \"+str(person[\"age\"])+\" year old, and i lived in \"+person[\"city\"])\n"
   ]
  },
  {
   "cell_type": "markdown",
   "metadata": {},
   "source": [
    "# Q 02"
   ]
  },
  {
   "cell_type": "code",
   "execution_count": 2,
   "metadata": {},
   "outputs": [
    {
     "name": "stdout",
     "output_type": "stream",
     "text": [
      "Karachi is the city of Pakistan and it's population is 14.91m and one fact about Karachi is Karachi is the largest city of Pakistan and the world’s second most populous town\n",
      "Lahore is the city of Pakistan and it's population is 11.13m and one fact about Lahore is Lahore is the second biggest city in Pakistan.\n",
      "Paris is the city of France and it's population is 2.141m and one fact about Paris is Paris was originally a Roman City called “Lutetia.”.\n"
     ]
    }
   ],
   "source": [
    "\n",
    "karachi = {\n",
    "    'name':'Karachi',\n",
    "    'country':'Pakistan',\n",
    "    'population':14.91,\n",
    "    'fact':'Karachi is the largest city of Pakistan and the world’s second most populous town'\n",
    "}\n",
    "lahore = {\n",
    "    'name':'Lahore',\n",
    "    'country':'Pakistan',\n",
    "    'population':11.13,\n",
    "    'fact':'Lahore is the second biggest city in Pakistan.'\n",
    "}\n",
    "paris = {\n",
    "    'name':'Paris',\n",
    "    'country':'France',\n",
    "    'population':2.141 ,\n",
    "    'fact':'Paris was originally a Roman City called “Lutetia.”.'\n",
    "}\n",
    "cities = {'karachi':karachi ,\n",
    "          'lahore':lahore,\n",
    "          'paris':paris }\n",
    "\n",
    "# print(cities['karachi']['country'])\n",
    "\n",
    "for city in cities.values():\n",
    "    print(city[\"name\"]+\" is the city of \"+city[\"country\"]+\" and it's population is \"+str(city['population'])+\"m and one fact about \"+city[\"name\"]+\" is \"+ city[\"fact\"])\n",
    "    \n"
   ]
  },
  {
   "cell_type": "markdown",
   "metadata": {},
   "source": [
    "# Q3"
   ]
  },
  {
   "cell_type": "code",
   "execution_count": 4,
   "metadata": {},
   "outputs": [
    {
     "name": "stdout",
     "output_type": "stream",
     "text": [
      "Enter your age :2\n",
      "The ticket cost is free\n",
      "Enter your age :5\n",
      "The ticket cost is $10\n",
      "Enter your age :13\n",
      "The ticket cost is $15\n",
      "Enter your age :43\n",
      "The ticket cost is $15\n",
      "Enter your age :2\n",
      "The ticket cost is free\n"
     ]
    }
   ],
   "source": [
    "i = 0\n",
    "while(i < 5):\n",
    "    age = int(input(\"Enter your age :\"))\n",
    "    if(age < 3):\n",
    "        print(\"The ticket cost is free\")\n",
    "    elif(age >= 3 and age <= 12):\n",
    "        print(\"The ticket cost is $10\")\n",
    "    elif(age > 12):\n",
    "        print(\"The ticket cost is $15\")\n",
    "    i+=1\n"
   ]
  },
  {
   "cell_type": "markdown",
   "metadata": {},
   "source": [
    "# Q4"
   ]
  },
  {
   "cell_type": "code",
   "execution_count": null,
   "metadata": {},
   "outputs": [],
   "source": [
    "Write a function called favorite_book() that accepts one parameter, title. The function should print a\n",
    "message, such as One of my favorite books is Alice in Wonderland. Call the function, making sure to\n",
    "include a book title as an argument in the function call."
   ]
  },
  {
   "cell_type": "code",
   "execution_count": 9,
   "metadata": {},
   "outputs": [
    {
     "name": "stdout",
     "output_type": "stream",
     "text": [
      "One of my favorite book is Alice in Wonderland\n",
      "One of my favorite book is John ducket for HTML and CSS\n",
      "One of my favorite book is An smarter way to learn javascript\n",
      "One of my favorite book is Roadmap to Learn React\n"
     ]
    }
   ],
   "source": [
    "def favorite_book(title):\n",
    "    print(\"One of my favorite book is \"+title)\n",
    "    \n",
    "favorite_book(\"Alice in Wonderland\")\n",
    "favorite_book(\"John ducket for HTML and CSS\")\n",
    "favorite_book(\"An smarter way to learn javascript\")\n",
    "favorite_book(\"Roadmap to Learn React\")\n"
   ]
  },
  {
   "cell_type": "markdown",
   "metadata": {},
   "source": [
    "# Q5"
   ]
  },
  {
   "cell_type": "code",
   "execution_count": 11,
   "metadata": {},
   "outputs": [
    {
     "name": "stdout",
     "output_type": "stream",
     "text": [
      "Guess number 15\n",
      "Your number is greater\n",
      "Chances left :  2 \n",
      "\n",
      "\n",
      "Guess number 7\n",
      "your number is smaller\n",
      "Chances left :  1 \n",
      "\n",
      "\n",
      "Guess number 11\n",
      "Your number is greater\n",
      "Chances left :  0 \n",
      "\n",
      "\n",
      "Sorry, you loose\n"
     ]
    }
   ],
   "source": [
    "from random import randint\n",
    "\n",
    "chances = 3\n",
    "\n",
    "num = randint(0, 30)\n",
    "\n",
    "for i in range(3):\n",
    "    chances -= 1\n",
    "    answer = int(input(\"Guess number \"))\n",
    "    if(answer > num):\n",
    "        print(\"Your number is greater\");\n",
    "    elif(answer < num):\n",
    "        print(\"your number is smaller\");\n",
    "    elif(answer == num):\n",
    "        print(\"Congratulations you guess the right number\")\n",
    "    print(\"Chances left : \",chances,\"\\n\\n\")    \n",
    "    if(chances == 0 and answer != num):\n",
    "        print(\"Sorry, you loose\")\n",
    "    \n"
   ]
  },
  {
   "cell_type": "code",
   "execution_count": null,
   "metadata": {},
   "outputs": [],
   "source": []
  },
  {
   "cell_type": "code",
   "execution_count": null,
   "metadata": {},
   "outputs": [],
   "source": []
  }
 ],
 "metadata": {
  "kernelspec": {
   "display_name": "Python 3",
   "language": "python",
   "name": "python3"
  },
  "language_info": {
   "codemirror_mode": {
    "name": "ipython",
    "version": 3
   },
   "file_extension": ".py",
   "mimetype": "text/x-python",
   "name": "python",
   "nbconvert_exporter": "python",
   "pygments_lexer": "ipython3",
   "version": "3.7.1"
  }
 },
 "nbformat": 4,
 "nbformat_minor": 2
}
