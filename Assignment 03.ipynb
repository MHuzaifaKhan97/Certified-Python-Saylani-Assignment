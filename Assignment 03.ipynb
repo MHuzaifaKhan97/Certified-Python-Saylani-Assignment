{
 "cells": [
  {
   "cell_type": "markdown",
   "metadata": {},
   "source": [
    "# Q1 "
   ]
  },
  {
   "cell_type": "code",
   "execution_count": 4,
   "metadata": {},
   "outputs": [
    {
     "name": "stdout",
     "output_type": "stream",
     "text": [
      "Enter first value : 5\n",
      "Enter second value : 6\n",
      "Choose Operation\n",
      "For Addition +\n",
      "For Subtraction -\n",
      "For Multiplication *\n",
      "For Division /*\n",
      "Multiplication of 5 and 6 is 30\n"
     ]
    }
   ],
   "source": [
    "input1 = int(input(\"Enter first value : \"))\n",
    "input2 = int(input(\"Enter second value : \"))\n",
    "operator = input(\"Choose Operation\\nFor Addition +\\nFor Subtraction -\\nFor Multiplication *\\nFor Division /\")\n",
    "\n",
    "    \n",
    "if(operator == \"+\"):\n",
    "    print(\"Addition of {} and {} is {}\".format(input1,input2,(input1+input2)))\n",
    "elif(operator == \"-\"):\n",
    "    print(\"Subtraction of {} and {} is {}\".format(input1,input2,(input1-input2)))\n",
    "elif(operator == \"*\"):\n",
    "    print(\"Multiplication of {} and {} is {}\".format(input1,input2,(input1*input2)))\n",
    "elif(operator == \"/\"):\n",
    "    print(\"Division of {} and {} is {}\".format(input1,input2,(input1/input2)))\n",
    "else:\n",
    "    print(\"Wrong Choice.\\nPlease choose the correct operator.\")\n",
    "    "
   ]
  },
  {
   "cell_type": "markdown",
   "metadata": {},
   "source": [
    "# Q2"
   ]
  },
  {
   "cell_type": "code",
   "execution_count": 10,
   "metadata": {},
   "outputs": [
    {
     "name": "stdout",
     "output_type": "stream",
     "text": [
      "1\n",
      "2\n",
      "4\n",
      "5\n"
     ]
    }
   ],
   "source": [
    "list1 = [1,2,'A','B',True,4,5]\n",
    "\n",
    "for i in range(len(list1)):\n",
    "    if(type(list1[i]) == int):\n",
    "        print(list1[i])"
   ]
  },
  {
   "cell_type": "markdown",
   "metadata": {},
   "source": [
    "# Q3"
   ]
  },
  {
   "cell_type": "code",
   "execution_count": 12,
   "metadata": {},
   "outputs": [
    {
     "name": "stdout",
     "output_type": "stream",
     "text": [
      "{0: 10, 1: 20}\n",
      "After Update  {0: 10, 1: 20, 2: 30}\n"
     ]
    }
   ],
   "source": [
    "dict = {0:10, 1:20}\n",
    "print(dict)\n",
    "dict.update({2:30})\n",
    "print(\"After Update \",dict)"
   ]
  },
  {
   "cell_type": "markdown",
   "metadata": {},
   "source": [
    "# Q4"
   ]
  },
  {
   "cell_type": "code",
   "execution_count": 19,
   "metadata": {},
   "outputs": [
    {
     "name": "stdout",
     "output_type": "stream",
     "text": [
      "Sum of total numbers in list is : 100\n"
     ]
    }
   ],
   "source": [
    "dict2 = {0:10, 1:20,3:30,4:40}\n",
    "sum = 0\n",
    "for val in dict2:\n",
    "    sum = sum + dict2[val]\n",
    "print(\"Sum of total numbers in list is : {}\".format(sum))"
   ]
  },
  {
   "cell_type": "markdown",
   "metadata": {},
   "source": [
    "# Q5"
   ]
  },
  {
   "cell_type": "code",
   "execution_count": 2,
   "metadata": {},
   "outputs": [
    {
     "name": "stdout",
     "output_type": "stream",
     "text": [
      "[1, 2, 4]\n"
     ]
    }
   ],
   "source": [
    "list1 = [1,12,2,1,2,2,1,4,5,4]\n",
    "\n",
    "def Repeat(x): \n",
    "    size = len(x) \n",
    "    repeated = [] \n",
    "    for i in range(size): \n",
    "        k = i + 1\n",
    "        for j in range(k, size): \n",
    "            if x[i] == x[j] and x[i] not in repeated: \n",
    "                repeated.append(x[i]) \n",
    "    return repeated \n",
    "\n",
    "print (Repeat(list1)) "
   ]
  },
  {
   "cell_type": "markdown",
   "metadata": {},
   "source": [
    "# Q6"
   ]
  },
  {
   "cell_type": "code",
   "execution_count": 5,
   "metadata": {},
   "outputs": [
    {
     "name": "stdout",
     "output_type": "stream",
     "text": [
      "Before Operation  {1: 10, 2: 20, 3: 30, 4: 40}\n",
      "Enter Key3\n",
      "Enter Value70\n",
      "After Operation  {1: 10, 2: 20, 3: 70, 4: 40}\n"
     ]
    }
   ],
   "source": [
    "dict2 = {1:10, 2:20,3:30,4:40}\n",
    "flag = False\n",
    "print(\"Before Operation \",dict2)\n",
    "\n",
    "key = int(input(\"Enter Key\"))\n",
    "value = int(input(\"Enter Value\"))\n",
    "for val in dict2:\n",
    "    if(val == key):\n",
    "        print(\"This key already exist operation fail\")\n",
    "        break\n",
    "    \n",
    "\n",
    "print(\"After Operation \",dict2)\n",
    "\n"
   ]
  },
  {
   "cell_type": "code",
   "execution_count": null,
   "metadata": {},
   "outputs": [],
   "source": []
  }
 ],
 "metadata": {
  "kernelspec": {
   "display_name": "Python 3",
   "language": "python",
   "name": "python3"
  },
  "language_info": {
   "codemirror_mode": {
    "name": "ipython",
    "version": 3
   },
   "file_extension": ".py",
   "mimetype": "text/x-python",
   "name": "python",
   "nbconvert_exporter": "python",
   "pygments_lexer": "ipython3",
   "version": "3.7.1"
  }
 },
 "nbformat": 4,
 "nbformat_minor": 2
}
