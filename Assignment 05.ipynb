{
 "cells": [
  {
   "cell_type": "markdown",
   "metadata": {},
   "source": [
    "# Q1"
   ]
  },
  {
   "cell_type": "code",
   "execution_count": 15,
   "metadata": {},
   "outputs": [
    {
     "name": "stdout",
     "output_type": "stream",
     "text": [
      "Factorial is : 120\n"
     ]
    }
   ],
   "source": [
    "def factorial(num):\n",
    "    fact = 1\n",
    "    for i in range(num):\n",
    "        itr = i + 1;\n",
    "        fact = fact * itr\n",
    "    return fact\n",
    "\n",
    "print(\"Factorial is :\",factorial(5))"
   ]
  },
  {
   "cell_type": "markdown",
   "metadata": {},
   "source": [
    "# Q2"
   ]
  },
  {
   "cell_type": "code",
   "execution_count": 8,
   "metadata": {},
   "outputs": [
    {
     "name": "stdout",
     "output_type": "stream",
     "text": [
      "Total Number of Upper case is :  5\n",
      "Total Number of Lower case is :  6\n"
     ]
    }
   ],
   "source": [
    "def takeStr(name):\n",
    "    upperCase = 0\n",
    "    lowerCase = 0\n",
    "    for i in range(len(name)):\n",
    "        if(name[i].isupper()):\n",
    "            upperCase += 1\n",
    "        elif(name[i].islower()):\n",
    "            lowerCase += 1\n",
    "    print(\"Total Number of Upper case is : \",upperCase)\n",
    "    print(\"Total Number of Lower case is : \",lowerCase)\n",
    "\n",
    "takeStr('Huzaifa KHAN')"
   ]
  },
  {
   "cell_type": "markdown",
   "metadata": {},
   "source": [
    "# Q3"
   ]
  },
  {
   "cell_type": "code",
   "execution_count": 16,
   "metadata": {},
   "outputs": [
    {
     "name": "stdout",
     "output_type": "stream",
     "text": [
      "Even Number List : [2, 4, 6, 8, 10, 12, 14]\n"
     ]
    }
   ],
   "source": [
    "numbers = [1,2,3,4,5,6,7,8,9,10,11,12,13,14,15]\n",
    "\n",
    "def showEven(num):\n",
    "    newList = []\n",
    "    for i in range(len(num)):\n",
    "        if(num[i] % 2 == 0):\n",
    "            newList.append(num[i])\n",
    "    print(\"Even Number List :\", newList)\n",
    "    \n",
    "showEven(numbers)"
   ]
  },
  {
   "cell_type": "markdown",
   "metadata": {},
   "source": [
    "# Q4"
   ]
  },
  {
   "cell_type": "code",
   "execution_count": 23,
   "metadata": {},
   "outputs": [
    {
     "name": "stdout",
     "output_type": "stream",
     "text": [
      "Yes\n"
     ]
    }
   ],
   "source": [
    "def reverse(s): \n",
    "    return s[::-1] \n",
    "\n",
    "def isPalindrome(s):\n",
    "    reverse = s[::-1]   \n",
    "    if (s == reverse): \n",
    "        return True\n",
    "    return False\n",
    "    \n",
    "ans = isPalindrome(\"madam\")   \n",
    "if ans == True: \n",
    "    print(\"Yes\") \n",
    "else: \n",
    "    print(\"No\") "
   ]
  },
  {
   "cell_type": "markdown",
   "metadata": {},
   "source": [
    "# Q5"
   ]
  },
  {
   "cell_type": "code",
   "execution_count": 33,
   "metadata": {},
   "outputs": [
    {
     "name": "stdout",
     "output_type": "stream",
     "text": [
      "3  is a Prime Number\n"
     ]
    }
   ],
   "source": [
    "def checkPrime(num):\n",
    "    if(num > 1):\n",
    "        for i in range(2,num):\n",
    "            if(num % i == 0): \n",
    "                print(num, \" is Not a Prime Number\")\n",
    "                break\n",
    "            else:\n",
    "                print(num, \" is a Prime Number\")\n",
    "                break\n",
    "\n",
    "checkPrime(3)"
   ]
  },
  {
   "cell_type": "markdown",
   "metadata": {},
   "source": [
    "# Q6"
   ]
  },
  {
   "cell_type": "code",
   "execution_count": 39,
   "metadata": {},
   "outputs": [
    {
     "name": "stdout",
     "output_type": "stream",
     "text": [
      "The Person is Bought  Egg Yogurt \n",
      "The Person is Bought  Egg Yogurt Milk \n",
      "The Person is Bought  Egg Yogurt Tomato Onion Butter \n"
     ]
    }
   ],
   "source": [
    "def shoppingItems(*items):\n",
    "    newItems = \" \"\n",
    "    for item in items:\n",
    "        newItems += item +\" \"\n",
    "    print(\"The Person is Bought\",newItems)\n",
    "\n",
    "shoppingItems(\"Egg\",\"Yogurt\")\n",
    "shoppingItems(\"Egg\",\"Yogurt\",\"Milk\")\n",
    "shoppingItems(\"Egg\",\"Yogurt\",\"Tomato\",\"Onion\",\"Butter\")"
   ]
  },
  {
   "cell_type": "code",
   "execution_count": null,
   "metadata": {},
   "outputs": [],
   "source": []
  }
 ],
 "metadata": {
  "kernelspec": {
   "display_name": "Python 3",
   "language": "python",
   "name": "python3"
  },
  "language_info": {
   "codemirror_mode": {
    "name": "ipython",
    "version": 3
   },
   "file_extension": ".py",
   "mimetype": "text/x-python",
   "name": "python",
   "nbconvert_exporter": "python",
   "pygments_lexer": "ipython3",
   "version": "3.7.1"
  }
 },
 "nbformat": 4,
 "nbformat_minor": 2
}
